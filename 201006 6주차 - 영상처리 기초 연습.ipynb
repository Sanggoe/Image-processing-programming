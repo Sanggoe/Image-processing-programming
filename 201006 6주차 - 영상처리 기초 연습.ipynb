{
 "cells": [
  {
   "cell_type": "markdown",
   "metadata": {},
   "source": [
    "# 4. 이미지 프로세싱 기초"
   ]
  },
  {
   "cell_type": "markdown",
   "metadata": {},
   "source": [
    "## 4.1 관심 영역(ROI)\n",
    "* ROI (Region of Interest)  # rectangle 형태를 이야기 함!!"
   ]
  },
  {
   "cell_type": "code",
   "execution_count": 8,
   "metadata": {},
   "outputs": [],
   "source": [
    "# 관심영역에 초록색 네모 그리기\n",
    "import cv2\n",
    "import numpy as np\n",
    "\n",
    "img = cv2.imread('img/jiheon.jpg')\n",
    "x = 110; y = 100; w = 300; h = 300\n",
    "roi = img[y:y+h, x:x+w] # numpy는 copy가 아닌 referencing!!\n",
    "cv2.rectangle(roi, (0,0), (w-1, h-1), (0,255,0)) # BGR 순서\n",
    "# rectangle(img, start, end, color [, ... ])\n",
    "cv2.imshow('img', img)\n",
    "\n",
    "cv2.waitKey(0)\n",
    "cv2.destroyAllWindows()"
   ]
  },
  {
   "cell_type": "code",
   "execution_count": 14,
   "metadata": {},
   "outputs": [],
   "source": [
    "# 영역 복사 붙여넣기\n",
    "import cv2\n",
    "import numpy as np\n",
    "\n",
    "img = cv2.imread('img/jiheon.jpg')\n",
    "x = 320; y = 150; w = 50; h = 50\n",
    "roi = img[y:y+h, x:x+w] # numpy는 copy가 아닌 referencing!!\n",
    "cv2.rectangle(roi, (0,0), (w-1, h-1), (0,255,0)) # BGR 순서\n",
    "# rectangle(img, start, end, color [, ... ])\n",
    "\n",
    "img[y:y+h, x+w:x+w+w] = roi # roi를 img에 붙여넣기\n",
    "cv2.imshow('img', img)\n",
    "cv2.imwrite('img/jiheon_roi.jpg', roi)\n",
    "\n",
    "cv2.waitKey(0)\n",
    "cv2.destroyAllWindows()"
   ]
  },
  {
   "cell_type": "markdown",
   "metadata": {},
   "source": [
    "### 4.1.2 마우스로 관심영역 지정"
   ]
  },
  {
   "cell_type": "markdown",
   "metadata": {},
   "source": [
    "* 마우스 이벤트\n",
    "    * cv2.EVENT_LBUTTONDOWN # 누르기\n",
    "    * cv2.EVENT_LBUTTONUP # 떼기\n",
    "    * cv2.EVENT_MOUSEMOVE # 움직이기\n",
    "        * 드래그란, 누르고 유지하고 당기고 떼고!\n",
    "        * 윈도우는 마우스를 계~속 처리하고 있는거야"
   ]
  },
  {
   "cell_type": "code",
   "execution_count": 22,
   "metadata": {},
   "outputs": [],
   "source": [
    "# 드래그 영역 네모 그리기\n",
    "import cv2\n",
    "import numpy as np\n",
    "\n",
    "isDragging = False # 눌린 상태 여부\n",
    "pos = (-1, -1) # x0, y0\n",
    "w, h = -1, -1 # init\n",
    "\n",
    "\n",
    "def onMouse(event, x, y, flags, param):\n",
    "     # global을 쓰면 local이 아닌 함수 바깥의 변수 사용\n",
    "    global isDragging, pos, w, h, img\n",
    "    if event == cv2.EVENT_LBUTTONDOWN:\n",
    "        isDragging = True\n",
    "        pos = (x,y) # 처음 누른 위치\n",
    "    elif event == cv2.EVENT_MOUSEMOVE:\n",
    "        if isDragging:\n",
    "            img_draw = img.copy() # 보통 처리할 때는 원본이 아닌 카피 후 진행\n",
    "            cv2.rectangle(img_draw, pos, (x,y), (255,0,0), 2) # 현재 좌표 x,y\n",
    "            cv2.imshow('img_draw', img_draw) # 움직일때마다 출력\n",
    "    elif event == cv2.EVENT_LBUTTONUP:\n",
    "        if isDragging:\n",
    "            isDragging = False\n",
    "            w = x - pos[0]\n",
    "            h = y - pos[1]\n",
    "            if w > 0 and h > 0:\n",
    "                img_draw = img.copy()\n",
    "                cv2.rectangle(img_draw, pos, (x,y), (0,255,0), 2)\n",
    "                cv2.imshow('img_draw', img_draw)\n",
    "                roi = img[pos[1]:pos[1]+h, pos[0]:pos[0]+w]\n",
    "                cv2.imshow('cropped', roi)\n",
    "                cv2.imwrite('img/cropped.jpg', roi)\n",
    "            else:\n",
    "                cv2.imshow('img_draw', img)\n",
    "\n",
    "                \n",
    "img = cv2.imread('img/jiheon.jpg')\n",
    "cv2.imshow('img', img)\n",
    "cv2.setMouseCallback('img', onMouse)\n",
    "\n",
    "cv2.waitKey(0)\n",
    "cv2.destroyAllWindows()"
   ]
  },
  {
   "cell_type": "markdown",
   "metadata": {},
   "source": [
    "### openCV로 하면, 위 많은 것들을.. 알아서 다 해준다!\n",
    "\n",
    "ret = cv2.selectROI([win_name,] img [, showCrossHair = True, fromCenter = False])\n",
    "\n",
    "* win_name: ROI 선택을 진행할 창의 이름, str\n",
    "* img: ROI 선택을 진행할 이미지, NumPy ndarray\n",
    "* showCrossHair: 선택 영역 중심에 십자모양 표시 여부\n",
    "* fromCenter: 마우스 클릭 시작지점을 영역의 중심으로 지정\n",
    "* ret: 선택한 영역 좌표와 크기(x,y,w,h), 선택을 취소한 경우 모두 0\n",
    "        \n",
    "영역 선택 후, 스페이스나 엔터키를 누르면 좌표와 크기값이 반환되고, 'c'키를 누르면 선택이 취소되고, 리턴값이 0이 된다."
   ]
  },
  {
   "cell_type": "code",
   "execution_count": 24,
   "metadata": {},
   "outputs": [],
   "source": [
    "# 드래그 영역 네모 그리기\n",
    "import cv2\n",
    "import numpy as np\n",
    "               \n",
    "img = cv2.imread('img/jiheon.jpg')\n",
    "x,y,w,h = cv2.selectROI('img', img, False)\n",
    "if w and h:\n",
    "    roi = img[y:y+h, x:x+w]\n",
    "    cv2.imshow('cropped', roi)\n",
    "    cv2.imwrite('img/cropped2.jpg', roi) # 저장\n",
    "    \n",
    "cv2.imshow('img', img)\n",
    "\n",
    "cv2.waitKey(0)\n",
    "cv2.destroyAllWindows()"
   ]
  },
  {
   "cell_type": "code",
   "execution_count": 28,
   "metadata": {},
   "outputs": [],
   "source": [
    "# 드래그 영역 저장해서 클릭한 좌표에 출력하기!\n",
    "\n",
    "import cv2\n",
    "import numpy as np\n",
    "               \n",
    "img = cv2.imread('img/jiheon.jpg')\n",
    "x,y,w,h = cv2.selectROI('img', img, False)\n",
    "img_draw = img.copy() # call by reference 이므로 copy 해서 사용\n",
    "max_width = len(img_draw[0])\n",
    "max_height = len(img_draw)\n",
    "\n",
    "\n",
    "if w and h:\n",
    "    roi = img[y:y+h, x:x+w]\n",
    "\n",
    "    \n",
    "def onMouse(event, x, y, flags, param):\n",
    "     # global을 쓰면 local이 아닌 함수 바깥의 변수 사용\n",
    "    global img_draw, roi, w, h, max_width, max_height\n",
    "    if event == cv2.EVENT_LBUTTONDOWN:\n",
    "        roi_draw = roi.copy()\n",
    "        \n",
    "        if y+h > max_height and x+w > max_width:\n",
    "            roi_draw = roi[:-(y+h-max_height), :-(x+w-max_width)]\n",
    "        elif y+h > max_height:\n",
    "            roi_draw = roi[:-(y+h-max_height), :]\n",
    "        elif x+w > max_width:\n",
    "            roi_draw = roi[:, :-(x+w-max_width)]\n",
    "        img_draw[y:y+h, x:x+w] = roi_draw;\n",
    "        cv2.imshow('img', img_draw)\n",
    "            \n",
    "\n",
    "cv2.imshow('img', img)\n",
    "cv2.setMouseCallback('img', onMouse)        \n",
    "\n",
    "cv2.waitKey(0)\n",
    "cv2.destroyAllWindows()"
   ]
  }
 ],
 "metadata": {
  "kernelspec": {
   "display_name": "Python 3",
   "language": "python",
   "name": "python3"
  },
  "language_info": {
   "codemirror_mode": {
    "name": "ipython",
    "version": 3
   },
   "file_extension": ".py",
   "mimetype": "text/x-python",
   "name": "python",
   "nbconvert_exporter": "python",
   "pygments_lexer": "ipython3",
   "version": "3.8.3"
  }
 },
 "nbformat": 4,
 "nbformat_minor": 4
}
