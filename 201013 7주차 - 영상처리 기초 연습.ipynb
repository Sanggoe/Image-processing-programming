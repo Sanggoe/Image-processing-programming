{
 "cells": [
  {
   "cell_type": "markdown",
   "metadata": {},
   "source": [
    "## 4.2 컬러 스페이스\n",
    "* out = cv2.cvtColor(img, flag)  (convert 함수)\n",
    "    * img: NumPy 배열, 변환할 이미지\n",
    "    * flag: 변환할 컬러 스페이스, cv2.COLOR_로 시작(274개)\n",
    "      * CV2.COLOR_BGR2GRAY\n",
    "      * CV2.COLOR_GRAY2BGR\n",
    "      * CV2.COLOR_BGR2RGB\n",
    "      * CV2.COLOR_BGR2HSV\n",
    "      * CV2.COLOR_HSV2BGR\n",
    "      * CV2.COLOR_BGR2YUV\n",
    "      * CV2.COLOR_YUV2BGR\n",
    "    * out: 변환한 결과 이미지(NumPy 배열)"
   ]
  },
  {
   "cell_type": "code",
   "execution_count": 26,
   "metadata": {},
   "outputs": [
    {
     "name": "stdout",
     "output_type": "stream",
     "text": [
      "default: (120, 98, 3) color: (120, 98, 3) unchanged: (120, 98, 4)\n"
     ]
    }
   ],
   "source": [
    "import cv2\n",
    "import numpy as np\n",
    "\n",
    "img = cv2.imread('img/opencv_logo.png') # png 형식은 알파채널이 존재한다.\n",
    "bgr = cv2.imread('img/opencv_logo.png', cv2.IMREAD_COLOR)\n",
    "bgra = cv2.imread('img/opencv_logo.png', cv2.IMREAD_UNCHANGED)\n",
    "\n",
    "# 각각 데이터가 어떻게 들어가있는지 확인해보자!\n",
    "print('default:', img.shape, 'color:', bgr.shape, 'unchanged:', bgra.shape)\n",
    "# bgra의 마지막 값은 0~255 사이 알파채널의 값. 투명도. 작아지면 점점 투명해진다.\n",
    "# 불투명도가 더 정확한 표현이다!!!! 불 투 명 도.\n",
    "# 255 면 불투명. 보임 / 0 이면 투명. 안보임\n",
    "\n",
    "cv2.imshow('bgr', bgr)\n",
    "cv2.imshow('bgra', bgra)\n",
    "cv2.imshow('alpha', bgra[:, :, 3]) # 알파채널만 보겠다!\n",
    "\n",
    "cv2.waitKey(0)\n",
    "cv2.destroyAllWindows()\n",
    "# 원본에서, 눈에 보이는 색깔들은 불투명 하기 때문에 눈에 보이는 것이고\n",
    "# 배경이 흰색으로 보이는 것은 투명하기 때문이다. 색깔이 없는거지 흰색이 아니다.\n",
    "# 255(완전 불투명), 0(완전 투명)\n",
    "# 색깔이 없어서 흰색으로 보이는 것이다! 불투명도. png\n",
    "# 다시 보고 이해 및 정리하자.\n",
    "\n",
    "# 알파채널이 투명도!?"
   ]
  },
  {
   "cell_type": "code",
   "execution_count": null,
   "metadata": {},
   "outputs": [],
   "source": []
  },
  {
   "cell_type": "code",
   "execution_count": 30,
   "metadata": {},
   "outputs": [],
   "source": [
    "#bgr2gray.py\n",
    "import cv2\n",
    "import numpy as np\n",
    "\n",
    "img = cv2.imread('img/girl.jpg') # jpg형식은 alpha 채널이 없다!\n",
    "cv2.imshow('original', img)\n",
    "\n",
    "# grayscale로 바꾸는 방법1. RGB 세 개를 더해서 3으로 나누는 작업\n",
    "# uint8이기에 256까지만 표현 가능.\n",
    "# 따라서 type을 바꿔주어 더한 다음에 처리해줘야 한다. memory-overflow!\n",
    "img2 = img.astype(np.int16)                # dtype 변경 ---①\n",
    "b,g,r = cv2.split(img2)                     # b,g,r 값을 채널 별로 분리 ---②\n",
    "#b,g,r = img2[:,:,0], img2[:,:,1], img2[:,:,2]\n",
    "gray1 = ((b + g + r)/3).astype(np.uint8)    # 평균 값 연산후 dtype 변경 ---③\n",
    "cv2.imshow('gray1', gray1) # gray scale\n",
    "\n",
    "# 함수를 쓰는 간단한 방법 한줄로 끝\n",
    "gray2 = cv2.cvtColor(img, cv2.COLOR_BGR2GRAY) # BGR을 그레이 스케일로 변경 ---④\n",
    "cv2.imshow('gray2', gray2)\n",
    "\n",
    "cv2.waitKey(0)\n",
    "cv2.destroyAllWindows()"
   ]
  },
  {
   "cell_type": "code",
   "execution_count": 17,
   "metadata": {},
   "outputs": [
    {
     "name": "stdout",
     "output_type": "stream",
     "text": [
      "red: [[[  0 255 255]]]\n",
      "green: [[[ 60 255 255]]]\n",
      "blue [[[120 255 255]]]\n",
      "yellow [[[ 30 255 255]]]\n"
     ]
    }
   ],
   "source": [
    "# bgr2hsv.py 명도, 채도\n",
    "import cv2\n",
    "import numpy as np\n",
    "\n",
    "#---① BGR 컬러 스페이스로 원색 픽셀 생성\n",
    "red_bgr = np.array([[[0,0,255]]], dtype=np.uint8)   # 빨강 값만 갖는 픽셀\n",
    "green_bgr = np.array([[[0,255,0]]], dtype=np.uint8) # 초록 값만 갖는 픽셀\n",
    "blue_bgr = np.array([[[255,0,0]]], dtype=np.uint8)  # 파랑 값만 갖는 픽셀\n",
    "yellow_bgr = np.array([[[0,255,255]]], dtype=np.uint8) # 노랑 값만 갖는 픽셀\n",
    "\n",
    "#---② BGR 컬러 스페이스를 HSV 컬러 스페이스로 변환\n",
    "red_hsv = cv2.cvtColor(red_bgr, cv2.COLOR_BGR2HSV);\n",
    "green_hsv = cv2.cvtColor(green_bgr, cv2.COLOR_BGR2HSV);\n",
    "blue_hsv = cv2.cvtColor(blue_bgr, cv2.COLOR_BGR2HSV);\n",
    "yellow_hsv = cv2.cvtColor(yellow_bgr, cv2.COLOR_BGR2HSV);\n",
    "\n",
    "#---③ HSV로 변환한 픽셀 출력\n",
    "print(\"red:\",red_hsv) \n",
    "print(\"green:\", green_hsv)\n",
    "print(\"blue\", blue_hsv)\n",
    "print(\"yellow\", yellow_hsv)\n",
    "\n",
    "# 각도가 0이면 빨강, 120도는 초록, 240도는 파랑의 채도.\n",
    "# 근데, 255까지밖에 표현 못하니까 180까지만 해서 줄여서 표현! 반으로 줄인다.\n",
    "# 그렇다보니 색깔의 표현 범위가 반으로 줄어든다."
   ]
  },
  {
   "cell_type": "code",
   "execution_count": 18,
   "metadata": {},
   "outputs": [
    {
     "name": "stdout",
     "output_type": "stream",
     "text": [
      "dark: [[[  0 128 128]]]\n",
      "middle: [[[127 128 128]]]\n",
      "bright [[[255 128 128]]]\n"
     ]
    }
   ],
   "source": [
    "# bgr2yuv 밝기, 색채\n",
    "import cv2\n",
    "import numpy as np\n",
    "\n",
    "#---① BGR 컬러 스페이스로 3가지 밝기의 픽셀 생성\n",
    "dark = np.array([[[0,0,0]]], dtype=np.uint8)        # 3 채널 모두 0인 가장 어두운 픽셀\n",
    "middle = np.array([[[127,127,127]]], dtype=np.uint8) # 3 채널 모두 127인 중간 밝기 픽셀\n",
    "bright = np.array([[[255,255,255]]], dtype=np.uint8) # 3 채널 모두 255인 가장 밝은 픽셀\n",
    "\n",
    "#---② BGR 컬러 스페이스를 YUV 컬러 스페이스로 변환\n",
    "dark_yuv = cv2.cvtColor(dark, cv2.COLOR_BGR2YUV)\n",
    "middle_yuv = cv2.cvtColor(middle, cv2.COLOR_BGR2YUV)\n",
    "bright_yuv = cv2.cvtColor(bright, cv2.COLOR_BGR2YUV)\n",
    "\n",
    "#---③ YUV로 변환한 픽셀 출력\n",
    "print(\"dark:\",dark_yuv)\n",
    "print(\"middle:\", middle_yuv)\n",
    "print(\"bright\", bright_yuv)\n",
    "\n",
    "# 색채는 차이값인데.. 128을 0으로 본다??\n",
    "# 어떤 처리를 해주고자 할 때 필요한 것..\n",
    "# 맨 앞 Y값만 뽑아서 쓰는거여~..\n",
    "# 어둡게 하고싶으면 y 값을\n",
    "# RGB 모델에서는 밝기를 낮추고 싶으면.. 어렵다.. 비율이 다르다.\n",
    "# 따라서 밝기가 나와있는 모델에서 바꿔줘야 한다."
   ]
  },
  {
   "cell_type": "markdown",
   "metadata": {},
   "source": [
    "어떤 형식으로 사용을 하느냐와 어떤 형식으로 저장 하느냐는 다르다!\n",
    "\n",
    "파일은 RGB, 형식으로 저장된다?"
   ]
  }
 ],
 "metadata": {
  "kernelspec": {
   "display_name": "Python 3",
   "language": "python",
   "name": "python3"
  },
  "language_info": {
   "codemirror_mode": {
    "name": "ipython",
    "version": 3
   },
   "file_extension": ".py",
   "mimetype": "text/x-python",
   "name": "python",
   "nbconvert_exporter": "python",
   "pygments_lexer": "ipython3",
   "version": "3.8.3"
  }
 },
 "nbformat": 4,
 "nbformat_minor": 4
}
