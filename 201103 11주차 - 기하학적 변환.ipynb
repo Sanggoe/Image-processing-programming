{
 "cells": [
  {
   "cell_type": "markdown",
   "metadata": {},
   "source": [
    "* dst = cv2.warpAffine(src, matrix, dsize [, dst, flags, borderMode, borderValue])\n",
    "    * src: 원본 이미지, numpy 배열\n",
    "    * matrix: 2 x 3 변환행렬, dtype=float32\n",
    "    * dsize: 결과 이미지의 크기, (width, height) 튜플\n",
    "        * 여기서의 dsize는 얼마나 크게 보여줄 거냐?\n",
    "        * 화면 출력 창 사이즈를 말하는 것.\n",
    "    * flags(optional): 보간법 알고리즘 플래그 (인터플레이션)\n",
    "        * cv2.INTER_LINEAR: default 값, 인접한 4개 픽셀 값에 거리 가중치 사용\n",
    "            * 가장 보편적. 1차 함수\n",
    "        * cv2.INTER_NEAREST: 가장 가까운 픽셀 값 사용\n",
    "\n",
    "        * cv2.INTER_AREA: 픽셀 영역 관계를 이용한 재샘플링\n",
    "            * 확대보단 축소에서 좋다고 합니다! -> 레포트\n",
    "            * 에일리어스(계단현상)의 발생히 덜하다.\n",
    "        * cv2.INTER_CUBIC: 인정합 16개 픽셀 값에 거리 가중치 사용\n",
    "            * 3차 함수,  -> 레포트\n",
    "            * 확대하는 경우 1차함수보다는 3차함수가 더 부드럽게 나오기때문에\n",
    "            * 속도는 더 오래걸리지만 이걸 쓴다.\n",
    "            \n",
    "        * cv2.NTER_LANCZOS4 : 인접한 8개 픽셀을 이용한 란초의 알고리즘\n",
    "    * borderMode(optional): 외곽 영역 보정 플래그\n",
    "        * cv2.BORDER_CONSTANT: 고정 색상 값(999 | 12345 | 999)\n",
    "            * 같은값을 쓴다! 가운데 12345가 이미지? 끝이 외곽선..!\n",
    "        * cv2.BORDER_REPLICATE: 가장자리 복제 (111 | 12345 | 555)\n",
    "            * 복제!!\n",
    "        * cv2.BORDER_WRAP: 반복 (345 | 12345 | 123)\n",
    "            * \n",
    "        * cv2.BORDER_REFLECT: 반사 (321 | 12345 | 543)\n",
    "    * borderValue(optional): cv2.BORDER_CONSTANT 외곽 영역 보정 플래그일 경우 사용할 색상 값 (default=0)\n",
    "    * dst: 결과 이미지, NumPy 배열"
   ]
  },
  {
   "cell_type": "code",
   "execution_count": 6,
   "metadata": {},
   "outputs": [],
   "source": [
    "import cv2\n",
    "import numpy as np\n",
    "\n",
    "img = cv2.imread('img/fish.jpg')\n",
    "rows, cols = img.shape[:2]\n",
    "\n",
    "dx, dy = 100, 50\n",
    "\n",
    "mtrx = np.float32([[1,0,dx], [0,1,dy]])\n",
    "\n",
    "dst = cv2.warpAffine(img, mtrx, (cols+dx, rows+dy))\n",
    "\n",
    "dst2 = cv2.warpAffine(img, mtrx, (cols+dx, rows+dy), None, \\\n",
    "                     cv2.INTER_LINEAR, cv2.BORDER_CONSTANT, (255,0,0))\n",
    "\n",
    "dst3 = cv2.warpAffine(img, mtrx, (cols+dx, rows+dy), None, \\\n",
    "                     cv2.INTER_LINEAR, cv2.BORDER_REFLECT)\n",
    "\n",
    "cv2.imshow('original', img)\n",
    "cv2.imshow('trans', dst)\n",
    "cv2.imshow('BORDER_CONSTANT', dst2)\n",
    "cv2.imshow('BORDER_REFELECT', dst3)\n",
    "\n",
    "cv2.waitKey(0)\n",
    "cv2.destroyAllWindows()"
   ]
  },
  {
   "cell_type": "code",
   "execution_count": null,
   "metadata": {},
   "outputs": [],
   "source": []
  },
  {
   "cell_type": "markdown",
   "metadata": {},
   "source": [
    "### 5.1.2 확대 축소\n",
    "* dst = cv2.resize(src, dsize, dst, fx, fy, interpolation)\n",
    "    * src: 입력 원본 이미지\n",
    "    * dsize: 출력 영상 크기(확대/축소 목표 크기, (width, height)형식), 생략하면 fx, fy 배율을 적용\n",
    "        * 여기서의 dsize는 이미지의 크기를 말한다.\n",
    "        * fx, fy보다 우선순위가 높다!\n",
    "    * fx, fy: 크기 배율, dsize가 주어지면 dsize를 적용함\n",
    "    * interpolation: 보간법 알고리즘 선택 플래그 (cv2.warpAffine()과 동일)\n",
    "        * 앞선 함수와 플래그와 같다!\n",
    "    * dst: 결과 이미지\n",
    "    \n",
    "    * resize에서의 dsize는 확대 크기"
   ]
  },
  {
   "cell_type": "code",
   "execution_count": 13,
   "metadata": {},
   "outputs": [],
   "source": [
    "import cv2\n",
    "import numpy as np\n",
    "\n",
    "img = cv2.imread('img/fish.jpg')\n",
    "height, width = img.shape[:2]\n",
    "\n",
    "# 0.5배 축소\n",
    "m_small = np.float32([[0.5,0,0],\n",
    "                      [0,0.5,0]])\n",
    "\n",
    "# 2배 확대\n",
    "m_big = np.float32([[2,0,0],\n",
    "                    [0,2,0]])\n",
    "\n",
    "dst1 = cv2.warpAffine(img, m_small, (int(height*0.5), int(width*0.5)))\n",
    "dst2 = cv2.warpAffine(img, m_big, (int(height*2), int(width*2)))\n",
    "\n",
    "dst3 = cv2.warpAffine(img, m_small, (int(height*0.5), int(width*0.5)), None, cv2.INTER_AREA)\n",
    "dst4 = cv2.warpAffine(img, m_big, (int(height*2), int(width*2)), None, cv2.INTER_CUBIC)\n",
    "\n",
    "cv2.imshow('original', img)\n",
    "cv2.imshow('small', dst1)\n",
    "cv2.imshow('big', dst2)\n",
    "cv2.imshow('INTER_AREA', dst3)\n",
    "cv2.imshow('INTER_CUBIC', dst4)\n",
    "\n",
    "cv2.waitKey(0)\n",
    "cv2.destroyAllWindows()"
   ]
  },
  {
   "cell_type": "markdown",
   "metadata": {},
   "source": [
    "* 위의 이미지의 경우에는.. 뭐 딱히.. 이미지가 단순하기도 하고\n",
    "* 괜찮은 예제는 아닌듯. 별 차이 모르겠음! 이 예시로는!\n",
    "\n",
    "* 그냥 기억할 것은 축소할땐 AREA를, 확대할 땐 연산에 무리가 없으면 CUBIC 쓴다!"
   ]
  },
  {
   "cell_type": "code",
   "execution_count": 15,
   "metadata": {},
   "outputs": [],
   "source": [
    "# cv2.resize 함수를 이용한 방법\n",
    "import cv2\n",
    "import numpy as np\n",
    "\n",
    "img = cv2.imread('img/fish.jpg')\n",
    "height, width = img.shape[:2]\n",
    "\n",
    "# 크기 지정으로 축소 // 축소이므로 AREA\n",
    "dst1 = cv2.resize(img, (int(height*0.5), int(width*0.5)), interpolation=cv2.INTER_AREA)\n",
    "\n",
    "# 배율 지정으로 확대 // 확대이므로 CUBIC\n",
    "dst2 = cv2.resize(img, None, None, 2, 2, interpolation=cv2.INTER_CUBIC)\n",
    "\n",
    "cv2.imshow('original', img)\n",
    "cv2.imshow('small', dst1)\n",
    "cv2.imshow('big', dst2)\n",
    "\n",
    "cv2.waitKey(0)\n",
    "cv2.destroyAllWindows()"
   ]
  },
  {
   "cell_type": "code",
   "execution_count": null,
   "metadata": {},
   "outputs": [],
   "source": []
  },
  {
   "cell_type": "markdown",
   "metadata": {},
   "source": [
    "### 5.1.3 회전"
   ]
  },
  {
   "cell_type": "code",
   "execution_count": 28,
   "metadata": {},
   "outputs": [],
   "source": [
    "import cv2\n",
    "import numpy as np\n",
    "\n",
    "img = cv2.imread('img/fish.jpg')\n",
    "rows, cols = img.shape[:2]\n",
    "\n",
    "d45 = 45.0 * np.pi / 180\n",
    "d90 = 90.0 * np.pi / 180\n",
    "\n",
    "# 회전한 결과를 이동하고 활용하기 위해 0 0 이 아닌 rows cols 를 활용\n",
    "m45 = np.float32( [[np.cos(d45), -1*np.sin(d45), rows//2],\n",
    "                    [np.sin(d45), np.cos(d45), -1*cols//4]])\n",
    "m90 = np.float32( [[np.cos(d90), -1*np.sin(d90), rows],\n",
    "                    [np.sin(d90), np.cos(d90), 0]])\n",
    "\n",
    "r45 = cv2.warpAffine(img, m45, (cols, rows))\n",
    "r90 = cv2.warpAffine(img, m90, (rows, cols))\n",
    "\n",
    "cv2.imshow('original', img)\n",
    "cv2.imshow('45', r45)\n",
    "cv2.imshow('90', r90)\n",
    "\n",
    "cv2.waitKey(0)\n",
    "cv2.destroyAllWindows()"
   ]
  },
  {
   "cell_type": "code",
   "execution_count": null,
   "metadata": {},
   "outputs": [],
   "source": []
  },
  {
   "cell_type": "markdown",
   "metadata": {},
   "source": [
    "* mtrx = cv2.getRotationMatrix2D(center, angle, scale)\n",
    "    * center: 회전축 중심 좌표 (x, y)\n",
    "    * angle: 회전할 각도, 60진법\n",
    "    * scale: 확대 및 축소비율"
   ]
  },
  {
   "cell_type": "code",
   "execution_count": 23,
   "metadata": {},
   "outputs": [],
   "source": [
    "# cv2.getRotationMatrix2D() 함수로 돌리기!\n",
    "import cv2\n",
    "import numpy as np\n",
    "\n",
    "img = cv2.imread('img/fish.jpg')\n",
    "rows, cols = img.shape[:2]\n",
    "\n",
    "m45 = cv2.getRotationMatrix2D((cols/2, rows/2), 45, 0.5)\n",
    "m90 = cv2.getRotationMatrix2D((cols/2, rows/2), 90, 1.5)\n",
    "\n",
    "img45 = cv2.warpAffine(img, m45, (cols, rows))\n",
    "img90 = cv2.warpAffine(img, m90, (rows, cols))\n",
    "\n",
    "cv2.imshow('original', img)\n",
    "cv2.imshow('45', img45)\n",
    "cv2.imshow('90', img90)\n",
    "\n",
    "cv2.waitKey(0)\n",
    "cv2.destroyAllWindows()"
   ]
  },
  {
   "cell_type": "code",
   "execution_count": null,
   "metadata": {},
   "outputs": [],
   "source": []
  },
  {
   "cell_type": "code",
   "execution_count": null,
   "metadata": {},
   "outputs": [],
   "source": []
  },
  {
   "cell_type": "code",
   "execution_count": null,
   "metadata": {},
   "outputs": [],
   "source": []
  },
  {
   "cell_type": "code",
   "execution_count": null,
   "metadata": {},
   "outputs": [],
   "source": []
  }
 ],
 "metadata": {
  "kernelspec": {
   "display_name": "Python 3",
   "language": "python",
   "name": "python3"
  },
  "language_info": {
   "codemirror_mode": {
    "name": "ipython",
    "version": 3
   },
   "file_extension": ".py",
   "mimetype": "text/x-python",
   "name": "python",
   "nbconvert_exporter": "python",
   "pygments_lexer": "ipython3",
   "version": "3.8.3"
  }
 },
 "nbformat": 4,
 "nbformat_minor": 4
}
