{
 "cells": [
  {
   "cell_type": "code",
   "execution_count": 1,
   "metadata": {},
   "outputs": [],
   "source": [
    "import numpy as np\n",
    "import cv2\n",
    "\n",
    "img = np.full((120, 120, 3), 255, dtype=np.uint8)\n",
    "\n",
    "img[10:110, :] = [126, 34, 1] # 사각형\n",
    "for i in range(10, 110):\n",
    "    img[i, i-10:i+10] = [255, 255, 255] # x=-y 그래프 모양 하얀 선\n",
    "    img[i, i-5:i+5] = [0, 0, 255] # x=-y 그래프 모양 빨간 선\n",
    "    img[i, 110-i:130-i] = [255, 255, 255] # x=y 그래프 모양 하얀 선\n",
    "    img[i, 115-i:125-i] = [0, 0, 255] # x=y 그래프 모양 빨간 선\n",
    "    img[i, 50:70] = [255, 255, 255] # y 그래프 모양 하얀 선\n",
    "    \n",
    "for i in range(0, 120):\n",
    "    img[50:70, i] = [255, 255, 255] # x 그래프 모양 하얀 선\n",
    "    img[55:65, i] = [0, 0, 255] # x 그래프 모양 빨간 선\n",
    "\n",
    "for i in range(10, 110):\n",
    "    img[i, 55:65] = [0, 0, 255] # y 그래프 모양 빨간 선\n",
    "\n",
    "cv2.imshow('Union Jack', img)\n",
    "cv2.waitKey(0)\n",
    "cv2.destroyWindow('Union Jack')"
   ]
  }
 ],
 "metadata": {
  "kernelspec": {
   "display_name": "Python 3",
   "language": "python",
   "name": "python3"
  },
  "language_info": {
   "codemirror_mode": {
    "name": "ipython",
    "version": 3
   },
   "file_extension": ".py",
   "mimetype": "text/x-python",
   "name": "python",
   "nbconvert_exporter": "python",
   "pygments_lexer": "ipython3",
   "version": "3.8.3"
  }
 },
 "nbformat": 4,
 "nbformat_minor": 4
}
