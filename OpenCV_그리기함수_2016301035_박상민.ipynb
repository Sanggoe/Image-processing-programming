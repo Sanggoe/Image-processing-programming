{
 "cells": [
  {
   "cell_type": "code",
   "execution_count": 26,
   "metadata": {},
   "outputs": [],
   "source": [
    "import numpy as np\n",
    "import cv2\n",
    "\n",
    "img = np.full((500,500,3), 255, dtype=np.uint8) # 500*500크기의 컬러를 저장할 빈 numpy 배열 선언\n",
    "cv2.imwrite('img/blank_500.jpg', img) # 저장\n",
    "\n",
    "img = cv2.imread('./img/blank_500.jpg')\n",
    "\n",
    "# lines\n",
    "cv2.putText(img, \"Lines\", (30,20), cv2.FONT_ITALIC, 0.5, (0,0,0))\n",
    "cv2.line(img, (50,30), (150,30), (255,0,0)) \n",
    "cv2.line(img, (200,30), (300,30), (0,255,0))\n",
    "cv2.line(img, (350,30), (450,30), (0,0,255))\n",
    "\n",
    "# rectanglues\n",
    "cv2.putText(img, \"Rectanglue\", (30,60), cv2.FONT_HERSHEY_PLAIN, 1, (255,0,255))\n",
    "cv2.rectangle(img, (80,70), (120,110), (255,0,0)) # 채우기 없음\n",
    "cv2.rectangle(img, (230,70), (270,110), (0,255,0), 10) # 선 두께 10\n",
    "cv2.rectangle(img, (380,70), (420,110), (0,0,255), -1) # -1은 채워 그리기\n",
    "\n",
    "# Polylines\n",
    "cv2.putText(img, \"Polyline\", (30,150), cv2.FONT_HERSHEY_COMPLEX_SMALL, 1, (0,210,210))\n",
    "pts1 = np.array([[25,160],[70,200],[50,200],[95,240]], dtype=np.int32) # 번개모양\n",
    "pts2 = np.array([[165,160],[115,240],[215,240]], dtype=np.int32) # 삼각형\n",
    "pts3 = np.array([[290,160],[240,240],[340,240]], dtype=np.int32) # 삼각형\n",
    "pts4 = np.array([[405,150],[455,200],[430,250],[380,250],[355,200]], dtype=np.int32) # 오각형\n",
    "\n",
    "cv2.polylines(img, [pts1], False, (255,0,0)) # 열린 파란색 번개모양 다각형\n",
    "cv2.polylines(img, [pts2], False, (0,0,0), 10) # 열린 검정색 두께 10의 삼각형\n",
    "cv2.polylines(img, [pts3], True, (0,0,255), 10) # 닫힌 빨간색 두께 10의 삼각형\n",
    "cv2.polylines(img, [pts4], True, (0,0,0)) # 닫힌 오각형\n",
    "\n",
    "# Circle\n",
    "cv2.putText(img, \"Circle\", (30,280), cv2.FONT_HERSHEY_SCRIPT_COMPLEX, 1, (255,0,0))\n",
    "cv2.circle(img, (50,340), 50, (255,0,0)) # 반지름이 50인 파란색 원\n",
    "cv2.circle(img, (50,410), 40, (0,255,0), 5) # 두께 5, 반지름이 40인 초록색 원\n",
    "cv2.circle(img, (50,450), 30, (0,0,255)) # 반지름이 30인 빨간색 채운 원\n",
    "\n",
    "cv2.ellipse(img, (150,340), (50,50), 0, 0, 180, (255,0,0)) # 아래 반원\n",
    "cv2.ellipse(img, (200,340), (50,50), 0, 181, 360, (0,0,255)) # 위 반원\n",
    "\n",
    "cv2.ellipse(img, (325,340), (75,50), 0, 0, 360, (0,255,0)) # 납작 타원\n",
    "cv2.ellipse(img, (450,340), (50,75), 0, 0, 360, (255,0,255)) # 홀쭉 타원\n",
    "\n",
    "cv2.ellipse(img, (190,445), (40,60), 50, 0, 360, (0,0,0)) # 회전 타원\n",
    "\n",
    "cv2.ellipse(img, (310,445), (40,60), 45, 0, 180, (0,0,255)) # 회전 반원\n",
    "cv2.ellipse(img, (350,445), (40,60), 45, 181, 360, (255,0,0)) # 회전 타원\n",
    "\n",
    "cv2.imshow('draw', img) \n",
    "cv2.waitKey(0)\n",
    "cv2.destroyAllWindows()"
   ]
  }
 ],
 "metadata": {
  "kernelspec": {
   "display_name": "Python 3",
   "language": "python",
   "name": "python3"
  },
  "language_info": {
   "codemirror_mode": {
    "name": "ipython",
    "version": 3
   },
   "file_extension": ".py",
   "mimetype": "text/x-python",
   "name": "python",
   "nbconvert_exporter": "python",
   "pygments_lexer": "ipython3",
   "version": "3.8.3"
  }
 },
 "nbformat": 4,
 "nbformat_minor": 4
}
