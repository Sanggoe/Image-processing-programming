{
 "cells": [
  {
   "cell_type": "code",
   "execution_count": null,
   "metadata": {},
   "outputs": [],
   "source": [
    "# 드래그 영역 클릭 좌표에 붙여넣기\n",
    "\n",
    "import cv2\n",
    "import numpy as np\n",
    "                \n",
    "img = cv2.imread('img/jiheon.jpg')\n",
    "x,y,w,h = cv2.selectROI('img', img, False)\n",
    "img_draw = img.copy()\n",
    "\n",
    "if w and h:\n",
    "    roi = img[y:y+h, x:x+w]\n",
    "\n",
    "def onMouse(event,x,y,flags,param):\n",
    "    global roi, w, h, img_draw\n",
    "    if event == cv2.EVENT_LBUTTONDOWN:\n",
    "        img_draw[y:y+h, x:x+w] = roi\n",
    "        cv2.imshow('img', img_draw)\n",
    "            \n",
    "cv2.setMouseCallback('img',onMouse)\n",
    "cv2.imshow('img', img)\n",
    "cv2.waitKey(0)\n",
    "cv2.destroyAllWindows()"
   ]
  },
  {
   "cell_type": "code",
   "execution_count": 3,
   "metadata": {},
   "outputs": [
    {
     "name": "stdout",
     "output_type": "stream",
     "text": [
      "가로 넘어감\n",
      "가로 넘어감\n",
      "가로 넘어감\n",
      "세로 넘어감\n",
      "세로 넘어감\n",
      "세로 넘어감\n",
      "가로세로 다 넘어감\n",
      "가로세로 다 넘어감\n",
      "가로세로 다 넘어감\n",
      "가로세로 다 넘어감\n",
      "가로세로 다 넘어감\n",
      "가로세로 다 넘어감\n",
      "가로세로 다 넘어감\n",
      "가로세로 다 넘어감\n",
      "세로 넘어감\n",
      "가로 넘어감\n"
     ]
    }
   ],
   "source": [
    "# 드래그 영역 클릭 좌표에 붙여넣기시, 범위가 벗어날 경우 오류 발생 해결 코드\n",
    "\n",
    "import cv2\n",
    "import numpy as np\n",
    "                \n",
    "img = cv2.imread('img/jiheon.jpg')\n",
    "x,y,w,h = cv2.selectROI('img', img, False)\n",
    "img_draw = img.copy()\n",
    "max_width = len(img_draw[0]) \n",
    "max_height = len(img_draw)\n",
    "\n",
    "if w and h:\n",
    "    roi = img[y:y+h, x:x+w]\n",
    "\n",
    "def onMouse(event,x,y,flags,param):\n",
    "    global roi_draw, w, h, img_draw, max_width, max_height\n",
    "    if event == cv2.EVENT_LBUTTONDOWN:\n",
    "        roi_draw = roi.copy()\n",
    "        \n",
    "        if x+w > max_width and y+h > max_height:\n",
    "            print(\"가로세로 다 넘어감\")\n",
    "            sub_x = (x+w) - max_width\n",
    "            sub_y = (y+h) - max_height\n",
    "            roi_draw = roi[:-sub_y, :-sub_x]\n",
    "            \n",
    "        elif x+w > max_width:\n",
    "            print(\"가로 넘어감\")\n",
    "            sub_x = (x+w) - max_width\n",
    "            roi_draw = roi[:, :-sub_x]\n",
    "            \n",
    "        elif y+h > max_height:\n",
    "            print(\"세로 넘어감\")\n",
    "            sub_y = (y+h) - max_height\n",
    "            roi_draw = roi[:-sub_y, :]\n",
    "            \n",
    "        img_draw[y:y+h, x:x+w] = roi_draw\n",
    "        cv2.imshow('img', img_draw)\n",
    "\n",
    "cv2.setMouseCallback('img',onMouse)\n",
    "cv2.imshow('img', img)\n",
    "cv2.waitKey(0)\n",
    "cv2.destroyAllWindows()"
   ]
  }
 ],
 "metadata": {
  "kernelspec": {
   "display_name": "Python 3",
   "language": "python",
   "name": "python3"
  },
  "language_info": {
   "codemirror_mode": {
    "name": "ipython",
    "version": 3
   },
   "file_extension": ".py",
   "mimetype": "text/x-python",
   "name": "python",
   "nbconvert_exporter": "python",
   "pygments_lexer": "ipython3",
   "version": "3.8.3"
  }
 },
 "nbformat": 4,
 "nbformat_minor": 4
}
